{
  "nbformat": 4,
  "nbformat_minor": 0,
  "metadata": {
    "colab": {
      "provenance": []
    },
    "kernelspec": {
      "name": "python3",
      "display_name": "Python 3"
    },
    "language_info": {
      "name": "python"
    }
  },
  "cells": [
    {
      "cell_type": "markdown",
      "source": [
        "# **Instrucciones:**\n",
        "En la hoja “ax” se encuentra el cálculo de las anualidades cuyo resultado se encuentra en la celda “d4”.\n",
        "El objetivo es llenar la hoja “Matrizax”, con el resultado expresado en la hoja “ax”, considerando las variables de año y edad.  \n",
        "Las edades que hay que considerar es de 60 a 111 años y los años de 2023 a 2133. La muestra está en la hoja “Matrizax”."
      ],
      "metadata": {
        "id": "eNEkzi6EcOXk"
      }
    },
    {
      "cell_type": "markdown",
      "source": [
        "#Importamos Datos"
      ],
      "metadata": {
        "id": "ajzSf1xncvo1"
      }
    },
    {
      "cell_type": "code",
      "source": [
        "#Instalamos librería para manipular archivos Excel\n",
        "!pip install openpyxl"
      ],
      "metadata": {
        "colab": {
          "base_uri": "https://localhost:8080/"
        },
        "id": "s3Gu0eZCoYK3",
        "outputId": "2ecb1fc4-ea0e-420d-d7a9-a74362582081"
      },
      "execution_count": null,
      "outputs": [
        {
          "output_type": "stream",
          "name": "stdout",
          "text": [
            "Requirement already satisfied: openpyxl in /usr/local/lib/python3.10/dist-packages (3.1.2)\n",
            "Requirement already satisfied: et-xmlfile in /usr/local/lib/python3.10/dist-packages (from openpyxl) (1.1.0)\n"
          ]
        }
      ]
    },
    {
      "cell_type": "code",
      "source": [
        "#Importamos librerías\n",
        "import openpyxl\n",
        "import pandas as pd\n",
        "import numpy as np"
      ],
      "metadata": {
        "id": "lRyhZVkPcvNd"
      },
      "execution_count": null,
      "outputs": []
    },
    {
      "cell_type": "code",
      "source": [
        "#Definimos función que transforma un rango dado en un df\n",
        "def load_workbook_range(range_string, ws):\n",
        "    data_rows = []\n",
        "    for row in ws[range_string]:\n",
        "        data_rows.append([cell.value for cell in row])\n",
        "\n",
        "    return pd.DataFrame(data_rows, )\n",
        "\n",
        "#Definimos función que registra el último renglón y columna con valores de una hoja de excel\n",
        "def cell_max_sheet(ws): #se podria hacer setiando el atributo y con una función recursiva pero no deja :(\n",
        "  max_row = ws.max_row\n",
        "  max_col = ws.max_column\n",
        "  while ws.cell(max_row,1).value is None :\n",
        "    max_row -=  1\n",
        "  while ws.cell(1,max_col).value is None :\n",
        "    max_col -=  1\n",
        "  max_col = chr(ord('@')+max_col) #Convertimos número a letra\n",
        "  max_cell = 'A1:' + max_col + str(max_row)\n",
        "\n",
        "  return max_cell"
      ],
      "metadata": {
        "id": "WatNEVy_cuOu"
      },
      "execution_count": null,
      "outputs": []
    },
    {
      "cell_type": "markdown",
      "source": [
        "## Manipulamos los Datos"
      ],
      "metadata": {
        "id": "m20sQNgfyDXb"
      }
    },
    {
      "cell_type": "code",
      "source": [
        "#Cargamos archivo de excel\n",
        "wb = openpyxl.load_workbook(filename=\"Anualidades.xlsx\", data_only=True)\n",
        "#Cargamos hojas de las tablas\n",
        "Mortality_sheet = wb['Tablas']\n",
        "Interest_sheet = wb['Tasas']\n",
        "\n",
        "#Cargamos tablas de datos a usar\n",
        "Mortality_table = load_workbook_range(cell_max_sheet(Mortality_sheet), Mortality_sheet)\n",
        "Interest_table = load_workbook_range(cell_max_sheet(Interest_sheet), Interest_sheet)\n",
        "\n",
        "#Limpiamos la tabla y renombramos títulos\n",
        "Mortality_table = Mortality_table.rename(columns=Mortality_table.iloc[0]).drop(Mortality_table.index[0]).dropna(axis = 1, how='all')\n",
        "Mortality_table.at[112, ('Mejora H', 'Mejora m')] = 0 #Seteamos ultimos valores de mejora a 0\n",
        "Interest_table = Interest_table.rename(columns=Interest_table.iloc[0]).drop(Interest_table.index[0])"
      ],
      "metadata": {
        "id": "Gz-1IWYLCjpZ"
      },
      "execution_count": null,
      "outputs": []
    },
    {
      "cell_type": "markdown",
      "source": [
        "##Cálculo de la matriz con anualidades"
      ],
      "metadata": {
        "id": "QkrcMvQPyG85"
      }
    },
    {
      "cell_type": "code",
      "source": [
        "#Funciones auxiliares para calcular la anualidad dado una edad de inicio fija y un año fijo\n",
        "def annuity_x_y(age, year, titular, gto_adm, mortality_table, interest_table):\n",
        "    year_fixed = np.arange(year, year + 111)  # Arreglo de años a considerar\n",
        "    age_fixed = np.arange(age, age + 111)  # Arreglo de edades a considerar\n",
        "    tasa_dinamica = Tasa_dinamica(year_fixed, age_fixed, titular, mortality_table)\n",
        "    vk_values = vk(year_fixed, interest_table)\n",
        "    annuity = np.sum(kpx(tasa_dinamica) * vk_values)\n",
        "    annuity_12 = ((annuity - 11 / 24) * 12) * (1 + gto_adm)  # Mensualizamos la anualidad\n",
        "    return annuity_12\n",
        "\n",
        "def Tasa_dinamica(year_fixed, age_fixed, titular, mortality_table):\n",
        "    # Se cambia la tabla de mortalidad dependiendo la condición\n",
        "    if titular == 'CMG':\n",
        "        lst_mort = mortality_table.loc[mortality_table['Edad'].isin(age_fixed), 'EMSSAH-RCS-15 ']\n",
        "    else:\n",
        "        lst_mort = mortality_table.loc[mortality_table['Edad'].isin(age_fixed), 'RJP H']\n",
        "\n",
        "    # Calculamos mejora y guardamos en una lista de longitud 111\n",
        "    lst_mejora = mortality_table.loc[mortality_table['Edad'].isin(age_fixed), 'Mejora H']\n",
        "    year_from22 = np.arange(year_fixed[0] - 2022, year_fixed[0] - 2022 + len(lst_mort))\n",
        "\n",
        "    # Aplicamos mejora\n",
        "    lst_final = (np.power(1 - lst_mejora, [min(100, x) for x in year_from22]) * lst_mort).tolist()\n",
        "\n",
        "    # Agregamos 1's si la edad sobrepasa la de la tabla de mortalidad\n",
        "    lst_final.extend([1] * (111 - len(lst_final)))\n",
        "    return lst_final\n",
        "\n",
        "def kpx(tasa_din):\n",
        "    list_kpx = [1, 2 * (1 - tasa_din[0]) / (1 + (1 - tasa_din[0]))]\n",
        "    for i in range(1, len(tasa_din) - 1):\n",
        "        list_kpx.append(list_kpx[i] * (1 - tasa_din[i]))\n",
        "    return np.array(list_kpx) #Muy importante siempre usar np.arrays para optimizar tiempos de lectura de memoria\n",
        "\n",
        "def vk(year_fixed, interest_table):\n",
        "    list_vk = [1]\n",
        "    t = np.arange(len(year_fixed))\n",
        "    interest_fixed = interest_table.loc[interest_table['Año'].isin(year_fixed), 'Esc Riesgo'].tolist()\n",
        "    for i in range(1, len(interest_fixed)):\n",
        "        list_vk.append((1 + interest_fixed[i]) ** (-t[i]) * (1 + interest_fixed[1]) ** (1 / 2))\n",
        "    return np.array(list_vk)"
      ],
      "metadata": {
        "id": "5EaLorUGw57W"
      },
      "execution_count": null,
      "outputs": []
    },
    {
      "cell_type": "markdown",
      "source": [
        "## Método principal que obtiene la matrix de anualidades"
      ],
      "metadata": {
        "id": "SHqNP0lvE-ja"
      }
    },
    {
      "cell_type": "code",
      "source": [
        "#Obtenemos último año y edad para generar matriz\n",
        "last_age = Mortality_table['Edad'].iloc[-1]\n",
        "last_year = 2023 + last_age - 1\n",
        "\n",
        "#Valores fijos\n",
        "Titular = 'CMG'\n",
        "Gto_adm = 0.02\n",
        "\n",
        "# Creamos arreglos de edad y año\n",
        "ages = np.arange(60, last_age + 1)\n",
        "years = np.arange(2023, last_year + 1)\n",
        "\n",
        "# Generamos matriz con las anualidades\n",
        "matrix = np.zeros((len(ages), len(years)))\n",
        "\n",
        "#Se podría optimizar con broadcasting pero es algo complicado\n",
        "for i, age in enumerate(ages) :\n",
        "  for j, year in enumerate(years) :\n",
        "    matrix[i, j] = annuity_x_y(age, year, Titular, Gto_adm, Mortality_table, Interest_table)"
      ],
      "metadata": {
        "id": "4BixiII_pvJU"
      },
      "execution_count": null,
      "outputs": []
    },
    {
      "cell_type": "markdown",
      "source": [
        "## Creación de DataFrame para visualización y carga a excel"
      ],
      "metadata": {
        "id": "Opn9Wur0E-Lb"
      }
    },
    {
      "cell_type": "code",
      "source": [
        "from openpyxl.utils.dataframe import dataframe_to_rows\n",
        "from google.colab import files\n",
        "\n",
        "#Conversión a dataframe\n",
        "df = pd.DataFrame(matrix, columns = np.arange(2023, last_year + 1), index = np.arange(60, last_age + 1))\n",
        "df.head()\n",
        "\n",
        "#Cargamos libro de excel\n",
        "wb = openpyxl.load_workbook(filename=\"Anualidades.xlsx\", data_only=True)\n",
        "#Cargamos en una nueva pestaña del archivo de excel los resultados\n",
        "if 'Matrixax_Python' in wb.sheetnames:\n",
        "  ws = wb['Matrixax_Python']\n",
        "else:\n",
        "  wb.create_sheet('Matrixax_Python')\n",
        "  ws = wb['Matrixax_Python']\n",
        "\n",
        "#Desarrollamos df\n",
        "if ws.cell(2,1).value is None :\n",
        "  for r in dataframe_to_rows(df, index=True, header=True):\n",
        "      ws.append(r)\n",
        "  for i in (1,1,2): ws.delete_rows(i,1)\n",
        "\n",
        "#Guarda y descarga automáticamente archivo\n",
        "wb.save('Anualidadesv2.xlsx')\n",
        "files.download('Anualidadesv2.xlsx')"
      ],
      "metadata": {
        "colab": {
          "base_uri": "https://localhost:8080/"
        },
        "id": "gEYbg5Dq3HX7",
        "outputId": "05599ee8-e81a-4e8d-e10c-8a5c0bd63e20"
      },
      "execution_count": null,
      "outputs": [
        {
          "output_type": "display_data",
          "data": {
            "text/plain": [
              "<IPython.core.display.Javascript object>"
            ],
            "application/javascript": [
              "\n",
              "    async function download(id, filename, size) {\n",
              "      if (!google.colab.kernel.accessAllowed) {\n",
              "        return;\n",
              "      }\n",
              "      const div = document.createElement('div');\n",
              "      const label = document.createElement('label');\n",
              "      label.textContent = `Downloading \"${filename}\": `;\n",
              "      div.appendChild(label);\n",
              "      const progress = document.createElement('progress');\n",
              "      progress.max = size;\n",
              "      div.appendChild(progress);\n",
              "      document.body.appendChild(div);\n",
              "\n",
              "      const buffers = [];\n",
              "      let downloaded = 0;\n",
              "\n",
              "      const channel = await google.colab.kernel.comms.open(id);\n",
              "      // Send a message to notify the kernel that we're ready.\n",
              "      channel.send({})\n",
              "\n",
              "      for await (const message of channel.messages) {\n",
              "        // Send a message to notify the kernel that we're ready.\n",
              "        channel.send({})\n",
              "        if (message.buffers) {\n",
              "          for (const buffer of message.buffers) {\n",
              "            buffers.push(buffer);\n",
              "            downloaded += buffer.byteLength;\n",
              "            progress.value = downloaded;\n",
              "          }\n",
              "        }\n",
              "      }\n",
              "      const blob = new Blob(buffers, {type: 'application/binary'});\n",
              "      const a = document.createElement('a');\n",
              "      a.href = window.URL.createObjectURL(blob);\n",
              "      a.download = filename;\n",
              "      div.appendChild(a);\n",
              "      a.click();\n",
              "      div.remove();\n",
              "    }\n",
              "  "
            ]
          },
          "metadata": {}
        },
        {
          "output_type": "display_data",
          "data": {
            "text/plain": [
              "<IPython.core.display.Javascript object>"
            ],
            "application/javascript": [
              "download(\"download_b30c6512-b1b8-4869-88cd-fe1dda03db47\", \"Anualidadesv2.xlsx\", 149720)"
            ]
          },
          "metadata": {}
        }
      ]
    },
    {
      "cell_type": "code",
      "source": [
        "import numpy as np\n",
        "import pandas as pd\n",
        "\n",
        "# Cargamos archivo de Excel\n",
        "wb = pd.read_excel(\"Anualidades.xlsx\", sheet_name=None)\n",
        "\n",
        "# Cargamos tablas de datos\n",
        "Mortality_table = wb['Tablas'].rename(columns=wb['Tablas'].iloc[0]).drop(wb['Tablas'].index[0]).dropna(axis=1, how='all')\n",
        "Mortality_table.at[112, ('Mejora H', 'Mejora m')] = 0  # Seteamos últimos valores de mejora a 0\n",
        "Interest_table = wb['Tasas'].rename(columns=wb['Tasas'].iloc[0]).drop(wb['Tasas'].index[0])\n",
        "\n",
        "# Función para calcular la anualidad\n",
        "def annuity_x_y(age, year, titular, gto_adm, mortality_table, interest_table):\n",
        "    year_fixed = np.arange(year, year + 111)\n",
        "    age_fixed = np.arange(age, age + 111)\n",
        "    tasa_dinamica = Tasa_dinamica(year_fixed, age_fixed, titular, mortality_table)\n",
        "    vk_values = vk(year_fixed, interest_table)\n",
        "    annuity = np.sum(kpx(tasa_dinamica) * vk_values)\n",
        "    annuity_12 = ((annuity - 11 / 24) * 12) * (1 + gto_adm)  # Mensualizamos la anualidad\n",
        "    return annuity_12\n",
        "\n",
        "@np.vectorize\n",
        "def Tasa_dinamica(year_fixed, age_fixed, titular, mortality_table):\n",
        "    if titular == 'CMG':\n",
        "        lst_mort = mortality_table.loc[mortality_table['Edad'].isin(age_fixed), 'EMSSAH-RCS-15 ']\n",
        "    else:\n",
        "        lst_mort = mortality_table.loc[mortality_table['Edad'].isin(age_fixed), 'RJP H']\n",
        "\n",
        "    lst_mejora = mortality_table.loc[mortality_table['Edad'].isin(age_fixed), 'Mejora H']\n",
        "    year_from22 = np.arange(year_fixed - 2022, year_fixed - 2022 + len(lst_mort))\n",
        "    lst_final = (np.power(1 - lst_mejora, np.minimum(100, year_from22)) * lst_mort).tolist()\n",
        "    lst_final.extend([1] * (111 - len(lst_final)))\n",
        "    return lst_final\n",
        "\n",
        "def kpx(tasa_din):\n",
        "    kpx_values = np.cumprod(1 - tasa_din)\n",
        "    kpx_values[0] = 1\n",
        "    kpx_values[1] = 2 * (1 - tasa_din[0]) / (1 + (1 - tasa_din[0]))\n",
        "    return kpx_values\n",
        "\n",
        "def vk(year_fixed, interest_table):\n",
        "    t = np.arange(len(year_fixed))\n",
        "    interest_fixed = interest_table.loc[interest_table['Año'].isin(year_fixed), 'Esc Riesgo'].values\n",
        "    vk_values = np.cumprod((1 + interest_fixed) ** (-t))\n",
        "    vk_values[0] = 1\n",
        "    vk_values[1:] *= (1 + interest_fixed[1]) ** (1 / 2)\n",
        "    return vk_values\n",
        "\n",
        "# Obtenemos último año y edad para generar matriz\n",
        "last_age = Mortality_table['Edad'].iloc[-1]\n",
        "last_year = 2023 + last_age - 1\n",
        "\n",
        "# Valores fijos\n",
        "Titular = 'CMG'\n",
        "Gto_adm = 0.02\n",
        "\n",
        "# Creamos arreglos de edad y año\n",
        "ages = np.arange(60, last_age + 1)\n",
        "years = np.arange(2023, last_year + 1)\n",
        "\n",
        "# Generamos matriz con las anualidades\n",
        "matrix = np.zeros((len(ages), len(years)))\n",
        "for i, age in enumerate(ages):\n",
        "    for j, year in enumerate(years):\n",
        "        matrix[i, j] = annuity_x_y(age, year, Titular, Gto_adm, Mortality_table, Interest_table)"
      ],
      "metadata": {
        "id": "zW-pWN1wTReH"
      },
      "execution_count": null,
      "outputs": []
    }
  ]
}